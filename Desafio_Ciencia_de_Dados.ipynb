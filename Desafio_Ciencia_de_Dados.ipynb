{
  "cells": [
    {
      "cell_type": "markdown",
      "metadata": {
        "id": "view-in-github",
        "colab_type": "text"
      },
      "source": [
        "<a href=\"https://colab.research.google.com/github/rafarodriguero/dioCienciaDeDados/blob/main/Desafio_Ciencia_de_Dados.ipynb\" target=\"_parent\"><img src=\"https://colab.research.google.com/assets/colab-badge.svg\" alt=\"Open In Colab\"/></a>"
      ]
    },
    {
      "cell_type": "code",
      "execution_count": 3,
      "metadata": {
        "colab": {
          "base_uri": "https://localhost:8080/"
        },
        "id": "uZvcxZ6T2fmO",
        "outputId": "4e728361-8781-4a7d-bb6c-fd5b0630b9b7"
      },
      "outputs": [
        {
          "output_type": "stream",
          "name": "stdout",
          "text": [
            "Olá Mundo!\n"
          ]
        }
      ],
      "source": [
        "print('Olá Mundo!')"
      ]
    },
    {
      "cell_type": "code",
      "execution_count": 4,
      "metadata": {
        "colab": {
          "base_uri": "https://localhost:8080/"
        },
        "id": "dKMgCzm524oN",
        "outputId": "244b0a6b-9ad8-412f-b31d-fb4f00569b00"
      },
      "outputs": [
        {
          "output_type": "stream",
          "name": "stdout",
          "text": [
            "Estou aprendendo python\n"
          ]
        }
      ],
      "source": [
        "print('Estou aprendendo python')"
      ]
    },
    {
      "cell_type": "markdown",
      "metadata": {
        "id": "RJRSu8TL4-1Q"
      },
      "source": [
        "#Curso Python para Análise de Dados\n",
        "\n",
        "###Estrutura de Dados\n",
        "\n",
        "###Lista"
      ]
    },
    {
      "cell_type": "code",
      "execution_count": 5,
      "metadata": {
        "colab": {
          "base_uri": "https://localhost:8080/"
        },
        "id": "yiFpeztz454U",
        "outputId": "65e497c1-eb06-4221-d42d-da445293bb79"
      },
      "outputs": [
        {
          "output_type": "execute_result",
          "data": {
            "text/plain": [
              "[1, 2, 3]"
            ]
          },
          "metadata": {},
          "execution_count": 5
        }
      ],
      "source": [
        "#Criando uma lista chamada animais\n",
        "\n",
        "animais = [1, 2, 3]\n",
        "animais"
      ]
    },
    {
      "cell_type": "code",
      "execution_count": 6,
      "metadata": {
        "colab": {
          "base_uri": "https://localhost:8080/"
        },
        "id": "t60Gz10-55zW",
        "outputId": "6d420921-96b3-4f87-a487-427d26ba0bcf"
      },
      "outputs": [
        {
          "output_type": "execute_result",
          "data": {
            "text/plain": [
              "['cachorro', 'gato', 12345, 6.5]"
            ]
          },
          "metadata": {},
          "execution_count": 6
        }
      ],
      "source": [
        "animais = [\"cachorro\", 'gato', 12345, 6.5]\n",
        "animais"
      ]
    },
    {
      "cell_type": "code",
      "execution_count": 7,
      "metadata": {
        "colab": {
          "base_uri": "https://localhost:8080/",
          "height": 36
        },
        "id": "uiC8FcXh6B8M",
        "outputId": "d5278d1e-6ff4-42a6-9fe9-df9dc7a8c863"
      },
      "outputs": [
        {
          "output_type": "execute_result",
          "data": {
            "text/plain": [
              "'cachorro'"
            ],
            "application/vnd.google.colaboratory.intrinsic+json": {
              "type": "string"
            }
          },
          "metadata": {},
          "execution_count": 7
        }
      ],
      "source": [
        "animais[0]"
      ]
    },
    {
      "cell_type": "code",
      "execution_count": 8,
      "metadata": {
        "colab": {
          "base_uri": "https://localhost:8080/"
        },
        "id": "Dn1OTJee6F-O",
        "outputId": "dcbde167-08dd-47c2-93d6-154792bae168"
      },
      "outputs": [
        {
          "output_type": "execute_result",
          "data": {
            "text/plain": [
              "6.5"
            ]
          },
          "metadata": {},
          "execution_count": 8
        }
      ],
      "source": [
        "animais[3]"
      ]
    },
    {
      "cell_type": "code",
      "execution_count": 9,
      "metadata": {
        "colab": {
          "base_uri": "https://localhost:8080/"
        },
        "id": "NWl6KSH36IkW",
        "outputId": "a6a05a88-69ee-46ab-b2f1-5bc1be435d18"
      },
      "outputs": [
        {
          "output_type": "execute_result",
          "data": {
            "text/plain": [
              "['papagaio', 'gato', 12345, 6.5]"
            ]
          },
          "metadata": {},
          "execution_count": 9
        }
      ],
      "source": [
        "animais[0]='papagaio'\n",
        "animais"
      ]
    },
    {
      "cell_type": "code",
      "execution_count": 10,
      "metadata": {
        "colab": {
          "base_uri": "https://localhost:8080/"
        },
        "id": "8o-YxIf76MUm",
        "outputId": "11238cf3-25da-4d5c-ef6e-23d559553cde"
      },
      "outputs": [
        {
          "output_type": "execute_result",
          "data": {
            "text/plain": [
              "['papagaio', 12345, 6.5]"
            ]
          },
          "metadata": {},
          "execution_count": 10
        }
      ],
      "source": [
        "animais.remove(\"gato\")\n",
        "animais"
      ]
    },
    {
      "cell_type": "code",
      "execution_count": 11,
      "metadata": {
        "colab": {
          "base_uri": "https://localhost:8080/"
        },
        "id": "dZ5RD2QL6Snm",
        "outputId": "8f1539e4-23ec-41c5-bf94-7d953e8ffb1e"
      },
      "outputs": [
        {
          "output_type": "execute_result",
          "data": {
            "text/plain": [
              "3"
            ]
          },
          "metadata": {},
          "execution_count": 11
        }
      ],
      "source": [
        "len(animais)"
      ]
    },
    {
      "cell_type": "code",
      "execution_count": 12,
      "metadata": {
        "colab": {
          "base_uri": "https://localhost:8080/"
        },
        "id": "tHe3AyDe6Vx_",
        "outputId": "ad2e022d-081b-4d5f-91ae-169c6f5b3624"
      },
      "outputs": [
        {
          "output_type": "execute_result",
          "data": {
            "text/plain": [
              "False"
            ]
          },
          "metadata": {},
          "execution_count": 12
        }
      ],
      "source": [
        "'gato' in animais"
      ]
    },
    {
      "cell_type": "code",
      "execution_count": 13,
      "metadata": {
        "id": "2VEei6_g6dWB"
      },
      "outputs": [],
      "source": [
        "lista = [500, 30, 300, 80, 10]"
      ]
    },
    {
      "cell_type": "code",
      "execution_count": 14,
      "metadata": {
        "colab": {
          "base_uri": "https://localhost:8080/"
        },
        "id": "se7Ya7hr6kGa",
        "outputId": "d002f145-e777-4d61-8204-0353e668a738"
      },
      "outputs": [
        {
          "output_type": "execute_result",
          "data": {
            "text/plain": [
              "500"
            ]
          },
          "metadata": {},
          "execution_count": 14
        }
      ],
      "source": [
        "max(lista)"
      ]
    },
    {
      "cell_type": "code",
      "execution_count": 15,
      "metadata": {
        "colab": {
          "base_uri": "https://localhost:8080/"
        },
        "id": "j8MQk6Sp6l2E",
        "outputId": "052bdf2e-cae8-4a6d-9155-4c36f053ad4f"
      },
      "outputs": [
        {
          "output_type": "execute_result",
          "data": {
            "text/plain": [
              "10"
            ]
          },
          "metadata": {},
          "execution_count": 15
        }
      ],
      "source": [
        "min(lista)"
      ]
    },
    {
      "cell_type": "code",
      "execution_count": 16,
      "metadata": {
        "colab": {
          "base_uri": "https://localhost:8080/"
        },
        "id": "zsuqqThs6qal",
        "outputId": "ff14fcc8-dd27-4148-ec23-9b54a0d52db6"
      },
      "outputs": [
        {
          "output_type": "execute_result",
          "data": {
            "text/plain": [
              "['papagaio', 12345, 6.5, 'leão']"
            ]
          },
          "metadata": {},
          "execution_count": 16
        }
      ],
      "source": [
        "animais.append(\"leão\")\n",
        "animais"
      ]
    },
    {
      "cell_type": "code",
      "execution_count": 17,
      "metadata": {
        "colab": {
          "base_uri": "https://localhost:8080/"
        },
        "id": "wB3ZFCtL6yMi",
        "outputId": "fb89db5a-4cb2-4f66-9735-3f7a5f22f8e8"
      },
      "outputs": [
        {
          "output_type": "execute_result",
          "data": {
            "text/plain": [
              "['papagaio', 12345, 6.5, 'leão', 'cobra', 6]"
            ]
          },
          "metadata": {},
          "execution_count": 17
        }
      ],
      "source": [
        "animais.extend(['cobra', 6])\n",
        "animais"
      ]
    },
    {
      "cell_type": "code",
      "execution_count": 19,
      "metadata": {
        "colab": {
          "base_uri": "https://localhost:8080/"
        },
        "id": "N9qYiWui8Xc2",
        "outputId": "2835163a-a4d0-4811-8666-7f783058a959"
      },
      "outputs": [
        {
          "output_type": "execute_result",
          "data": {
            "text/plain": [
              "1"
            ]
          },
          "metadata": {},
          "execution_count": 19
        }
      ],
      "source": [
        "animais.count('leão')"
      ]
    },
    {
      "cell_type": "code",
      "source": [
        "lista.sort()\n",
        "lista"
      ],
      "metadata": {
        "colab": {
          "base_uri": "https://localhost:8080/"
        },
        "id": "kZ--3k8uUfyU",
        "outputId": "b994e8a5-45a3-4e94-91ad-701c0ac545ae"
      },
      "execution_count": 21,
      "outputs": [
        {
          "output_type": "execute_result",
          "data": {
            "text/plain": [
              "[10, 30, 80, 300, 500]"
            ]
          },
          "metadata": {},
          "execution_count": 21
        }
      ]
    },
    {
      "cell_type": "markdown",
      "source": [
        "##Tuplas"
      ],
      "metadata": {
        "id": "BuPCuDnMUuVQ"
      }
    },
    {
      "cell_type": "code",
      "source": [
        "tp = (\"Banana\",\"Maça\", 10, 50)"
      ],
      "metadata": {
        "id": "fZ90QSItUxBP"
      },
      "execution_count": 22,
      "outputs": []
    },
    {
      "cell_type": "code",
      "source": [
        "tp[0]"
      ],
      "metadata": {
        "colab": {
          "base_uri": "https://localhost:8080/",
          "height": 36
        },
        "id": "wwx143b2U4iJ",
        "outputId": "b85067ee-ba40-44fb-9208-68c4ff6d3bdd"
      },
      "execution_count": 23,
      "outputs": [
        {
          "output_type": "execute_result",
          "data": {
            "text/plain": [
              "'Banana'"
            ],
            "application/vnd.google.colaboratory.intrinsic+json": {
              "type": "string"
            }
          },
          "metadata": {},
          "execution_count": 23
        }
      ]
    },
    {
      "cell_type": "code",
      "source": [
        "tp[0] = \"Laranja\""
      ],
      "metadata": {
        "colab": {
          "base_uri": "https://localhost:8080/",
          "height": 165
        },
        "id": "GjKpPE5pVA_r",
        "outputId": "d87100e4-c2c7-4e57-9fa2-0684e931ee56"
      },
      "execution_count": 24,
      "outputs": [
        {
          "output_type": "error",
          "ename": "TypeError",
          "evalue": "ignored",
          "traceback": [
            "\u001b[0;31m---------------------------------------------------------------------------\u001b[0m",
            "\u001b[0;31mTypeError\u001b[0m                                 Traceback (most recent call last)",
            "\u001b[0;32m<ipython-input-24-37f4fcd7b828>\u001b[0m in \u001b[0;36m<module>\u001b[0;34m\u001b[0m\n\u001b[0;32m----> 1\u001b[0;31m \u001b[0mtp\u001b[0m\u001b[0;34m[\u001b[0m\u001b[0;36m0\u001b[0m\u001b[0;34m]\u001b[0m \u001b[0;34m=\u001b[0m \u001b[0;34m\"Laranja\"\u001b[0m\u001b[0;34m\u001b[0m\u001b[0;34m\u001b[0m\u001b[0m\n\u001b[0m",
            "\u001b[0;31mTypeError\u001b[0m: 'tuple' object does not support item assignment"
          ]
        }
      ]
    },
    {
      "cell_type": "code",
      "source": [
        "tp.count(\"Maça\")"
      ],
      "metadata": {
        "colab": {
          "base_uri": "https://localhost:8080/"
        },
        "id": "x85akdzNVI8h",
        "outputId": "6052a422-b76d-4048-882a-be694720da23"
      },
      "execution_count": 25,
      "outputs": [
        {
          "output_type": "execute_result",
          "data": {
            "text/plain": [
              "1"
            ]
          },
          "metadata": {},
          "execution_count": 25
        }
      ]
    },
    {
      "cell_type": "code",
      "source": [
        "tp[0:2]"
      ],
      "metadata": {
        "colab": {
          "base_uri": "https://localhost:8080/"
        },
        "id": "MzljbyMpVMhI",
        "outputId": "7bdc3012-67e3-4e8a-8f66-20542506c95f"
      },
      "execution_count": 26,
      "outputs": [
        {
          "output_type": "execute_result",
          "data": {
            "text/plain": [
              "('Banana', 'Maça')"
            ]
          },
          "metadata": {},
          "execution_count": 26
        }
      ]
    },
    {
      "cell_type": "markdown",
      "source": [
        "## Dicionários"
      ],
      "metadata": {
        "id": "xwIp6CncVSyv"
      }
    },
    {
      "cell_type": "code",
      "source": [
        "dc = {\"Maçã\":20, \"Banana\": 10, \"Laranja\": 15, \"Uva\": 5}\n",
        "dc"
      ],
      "metadata": {
        "colab": {
          "base_uri": "https://localhost:8080/"
        },
        "id": "ujfNdRIAVU4y",
        "outputId": "861013fb-c4e5-4b82-bbbb-581c1ee38771"
      },
      "execution_count": 28,
      "outputs": [
        {
          "output_type": "execute_result",
          "data": {
            "text/plain": [
              "{'Maçã': 20, 'Banana': 10, 'Laranja': 15, 'Uva': 5}"
            ]
          },
          "metadata": {},
          "execution_count": 28
        }
      ]
    },
    {
      "cell_type": "code",
      "source": [
        "dc[\"Maçã\"]"
      ],
      "metadata": {
        "colab": {
          "base_uri": "https://localhost:8080/"
        },
        "id": "Jt8l93rpVlaP",
        "outputId": "338a49bd-b7b4-4c82-f8b3-b661784bce47"
      },
      "execution_count": 29,
      "outputs": [
        {
          "output_type": "execute_result",
          "data": {
            "text/plain": [
              "20"
            ]
          },
          "metadata": {},
          "execution_count": 29
        }
      ]
    },
    {
      "cell_type": "code",
      "source": [
        "dc[\"Maçã\"] = 25\n",
        "dc"
      ],
      "metadata": {
        "colab": {
          "base_uri": "https://localhost:8080/"
        },
        "id": "wLsd-D8VVtzR",
        "outputId": "74f01fcb-5da1-4446-e5af-a87870051d83"
      },
      "execution_count": 30,
      "outputs": [
        {
          "output_type": "execute_result",
          "data": {
            "text/plain": [
              "{'Maçã': 25, 'Banana': 10, 'Laranja': 15, 'Uva': 5}"
            ]
          },
          "metadata": {},
          "execution_count": 30
        }
      ]
    },
    {
      "cell_type": "code",
      "source": [
        "dc.keys()"
      ],
      "metadata": {
        "colab": {
          "base_uri": "https://localhost:8080/"
        },
        "id": "KXHzMzJNV8L-",
        "outputId": "5e655110-1ea8-4ecc-bbd7-2f9458adfeb4"
      },
      "execution_count": 31,
      "outputs": [
        {
          "output_type": "execute_result",
          "data": {
            "text/plain": [
              "dict_keys(['Maçã', 'Banana', 'Laranja', 'Uva'])"
            ]
          },
          "metadata": {},
          "execution_count": 31
        }
      ]
    },
    {
      "cell_type": "code",
      "source": [
        "dc.values()"
      ],
      "metadata": {
        "colab": {
          "base_uri": "https://localhost:8080/"
        },
        "id": "eWql5HJ4WA2F",
        "outputId": "3ca73de7-5881-4136-9e7c-9074d969ede6"
      },
      "execution_count": 32,
      "outputs": [
        {
          "output_type": "execute_result",
          "data": {
            "text/plain": [
              "dict_values([25, 10, 15, 5])"
            ]
          },
          "metadata": {},
          "execution_count": 32
        }
      ]
    },
    {
      "cell_type": "code",
      "source": [
        "dc.setdefault(\"Limão\", 22)\n",
        "dc"
      ],
      "metadata": {
        "colab": {
          "base_uri": "https://localhost:8080/"
        },
        "id": "RH-1AC8UWEoO",
        "outputId": "4e31eb1f-85ad-4564-9e3d-de495297be90"
      },
      "execution_count": 33,
      "outputs": [
        {
          "output_type": "execute_result",
          "data": {
            "text/plain": [
              "{'Maçã': 25, 'Banana': 10, 'Laranja': 15, 'Uva': 5, 'Limão': 22}"
            ]
          },
          "metadata": {},
          "execution_count": 33
        }
      ]
    }
  ],
  "metadata": {
    "colab": {
      "provenance": [],
      "authorship_tag": "ABX9TyOvX3hvsm1a/YFO8s6YbVcP",
      "include_colab_link": true
    },
    "kernelspec": {
      "display_name": "Python 3",
      "name": "python3"
    },
    "language_info": {
      "name": "python"
    }
  },
  "nbformat": 4,
  "nbformat_minor": 0
}